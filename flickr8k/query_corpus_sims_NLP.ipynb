{
 "cells": [
  {
   "cell_type": "code",
   "execution_count": 1,
   "metadata": {},
   "outputs": [
    {
     "name": "stderr",
     "output_type": "stream",
     "text": [
      "2022-02-04 13:44:32.928941: I tensorflow/stream_executor/platform/default/dso_loader.cc:53] Successfully opened dynamic library libcudart.so.11.0\n"
     ]
    }
   ],
   "source": [
    "import pandas as pd\n",
    "import torch\n",
    "from sentence_transformers import util\n",
    "import os\n",
    "import re"
   ]
  },
  {
   "cell_type": "code",
   "execution_count": 2,
   "metadata": {},
   "outputs": [],
   "source": [
    "def find_cosine_similarities(query, corpus):    \n",
    "    # calculate similarities from cosine distance\n",
    "    # query corresponds to COCO embedding for the randomnly chosen image\n",
    "    # corpus corresponds to averaged visual genome region embeddings for all images\n",
    "    similarities = util.pytorch_cos_sim(query, corpus) \n",
    "\n",
    "    return similarities.item()"
   ]
  },
  {
   "cell_type": "code",
   "execution_count": 28,
   "metadata": {},
   "outputs": [],
   "source": [
    "def df_similarities(df, model_name):\n",
    "    cols_similarities = []\n",
    "    for idx, val in df.iterrows():  \n",
    "        similarities = find_cosine_similarities(val[model_name+' query_embeddings'], val[model_name+' corpus_embeddings'])\n",
    "        cols_similarities.append(similarities)\n",
    "    df['similarities'] = cols_similarities\n",
    "    print(len(cols_similarities))\n",
    "    return df"
   ]
  },
  {
   "cell_type": "code",
   "execution_count": 29,
   "metadata": {},
   "outputs": [
    {
     "name": "stdout",
     "output_type": "stream",
     "text": [
      "paraphrase_MiniLM_L3_flickr8k_embeddings.pkl\n",
      "paraphrase_MiniLM_L3\n",
      "8091\n",
      "nli_distilroberta_base_flickr8k_embeddings.pkl\n",
      "nli_distilroberta_base\n",
      "8091\n",
      "stsb_roberta_base_flickr8k_embeddings.pkl\n",
      "stsb_roberta_base\n",
      "8091\n",
      "all_MiniLM_L12_flickr8k_embeddings.pkl\n",
      "all_MiniLM_L12\n",
      "8091\n",
      "all_mpnet_base_flickr8k_embeddings.pkl\n",
      "all_mpnet_base\n",
      "8091\n",
      "all_distilroberta_flickr8k_embeddings.pkl\n",
      "all_distilroberta\n",
      "8091\n",
      "paraphrase_distilroberta_flickr8k_embeddings.pkl\n",
      "paraphrase_distilroberta\n",
      "8091\n",
      "paraphrase_TinyBERT_L6_flickr8k_embeddings.pkl\n",
      "paraphrase_TinyBERT_L6\n",
      "8091\n",
      "paraphrase_mpnet_flickr8k_embeddings.pkl\n",
      "paraphrase_mpnet\n",
      "8091\n",
      "multi_qa_distilbert_cos_flickr8k_embeddings.pkl\n",
      "multi_qa_distilbert_cos\n",
      "8091\n",
      "multi_qa_MiniLM_L6_cos_flickr8k_embeddings.pkl\n",
      "multi_qa_MiniLM_L6_cos\n",
      "8091\n",
      "paraphrase_albert_base_flickr8k_embeddings.pkl\n",
      "paraphrase_albert_base\n",
      "8091\n",
      "nq_distilbert_base_flickr8k_embeddings.pkl\n",
      "nq_distilbert_base\n",
      "8091\n",
      "multi_qa_mpnet_base_cos_flickr8k_embeddings.pkl\n",
      "multi_qa_mpnet_base_cos\n",
      "8091\n",
      "all_roberta_large_flickr8k_embeddings.pkl\n",
      "all_roberta_large\n",
      "8091\n",
      "stsb_distilroberta_base_flickr8k_embeddings.pkl\n",
      "stsb_distilroberta_base\n",
      "8091\n",
      "stsb_roberta_large_flickr8k_embeddings.pkl\n",
      "stsb_roberta_large\n",
      "8091\n",
      "paraphrase_MiniLM_L12_flickr8k_embeddings.pkl\n",
      "paraphrase_MiniLM_L12\n",
      "8091\n",
      "xlm_distilroberta_paraphrase_flickr8k_embeddings.pkl\n",
      "xlm_distilroberta_paraphrase\n",
      "8091\n",
      "all_MiniLM_L6_flickr8k_embeddings.pkl\n",
      "all_MiniLM_L6\n",
      "8091\n",
      "paraphrase_MiniLM_L6_flickr8k_embeddings.pkl\n",
      "paraphrase_MiniLM_L6\n",
      "8091\n",
      "stsb_mpnet_base_flickr8k_embeddings.pkl\n",
      "stsb_mpnet_base\n",
      "8091\n"
     ]
    }
   ],
   "source": [
    "directory = '.'\n",
    "for filename in os.listdir(directory):\n",
    "    if filename.endswith(\"flickr8k_embeddings.pkl\"): \n",
    "        print(filename)\n",
    "        model_name = re.findall(r'(.*?)_flickr8k_embeddings.pkl', filename)\n",
    "        model_name = model_name[0]\n",
    "        print(model_name)\n",
    "        df = pd.read_pickle(filename)\n",
    "        df2 = df_similarities(df, model_name)\n",
    "        df2.to_pickle(model_name+'_similarities.pkl')"
   ]
  },
  {
   "cell_type": "code",
   "execution_count": null,
   "metadata": {},
   "outputs": [],
   "source": [
    "df.sort_values(by=['similarities'])"
   ]
  },
  {
   "cell_type": "code",
   "execution_count": null,
   "metadata": {},
   "outputs": [],
   "source": []
  },
  {
   "cell_type": "code",
   "execution_count": null,
   "metadata": {},
   "outputs": [],
   "source": []
  }
 ],
 "metadata": {
  "kernelspec": {
   "display_name": "Python 3 (ipykernel)",
   "language": "python",
   "name": "python3"
  },
  "language_info": {
   "codemirror_mode": {
    "name": "ipython",
    "version": 3
   },
   "file_extension": ".py",
   "mimetype": "text/x-python",
   "name": "python",
   "nbconvert_exporter": "python",
   "pygments_lexer": "ipython3",
   "version": "3.7.3"
  }
 },
 "nbformat": 4,
 "nbformat_minor": 2
}

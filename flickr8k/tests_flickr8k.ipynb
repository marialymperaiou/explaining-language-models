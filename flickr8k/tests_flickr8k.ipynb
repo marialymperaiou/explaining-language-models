{
 "cells": [
  {
   "cell_type": "code",
   "execution_count": 1,
   "metadata": {},
   "outputs": [],
   "source": [
    "import pandas as pd\n",
    "import os\n",
    "import re"
   ]
  },
  {
   "cell_type": "code",
   "execution_count": 2,
   "metadata": {},
   "outputs": [
    {
     "data": {
      "text/plain": [
       "(8091, 5)"
      ]
     },
     "execution_count": 2,
     "metadata": {},
     "output_type": "execute_result"
    }
   ],
   "source": [
    "d = pd.read_pickle('all_distilroberta_flickr8k_embeddings.pkl')\n",
    "d.shape"
   ]
  },
  {
   "cell_type": "code",
   "execution_count": 3,
   "metadata": {},
   "outputs": [
    {
     "name": "stdout",
     "output_type": "stream",
     "text": [
      "\n",
      " Model:  all_distilroberta\n",
      "median position: 2.0\n",
      "hit@1: 0.46990483252997156  - hit@5: 0.6971944135459152  - hit@10: 0.7754294895562971\n",
      "MRR in all data:  0.5743539984492478\n",
      "\n",
      " Model:  paraphrase_albert_base\n",
      "median position: 2.0\n",
      "hit@1: 0.4775676677790137  - hit@5: 0.7167222840192807  - hit@10: 0.7956989247311828\n",
      "MRR in all data:  0.586448437441523\n",
      "\n",
      " Model:  paraphrase_mpnet\n",
      "median position: 2.0\n",
      "hit@1: 0.49363490297861823  - hit@5: 0.7318007662835249  - hit@10: 0.8117661599307873\n",
      "MRR in all data:  0.602188949781251\n",
      "\n",
      " Model:  stsb_roberta_large\n",
      "median position: 3.0\n",
      "hit@1: 0.367816091954023  - hit@5: 0.5693980966505995  - hit@10: 0.6575207020145841\n",
      "MRR in all data:  0.4642690105047136\n",
      "\n",
      " Model:  multi_qa_mpnet_base_cos\n",
      "median position: 3.0\n",
      "hit@1: 0.3989618094178717  - hit@5: 0.6096897787665307  - hit@10: 0.6990483252997157\n",
      "MRR in all data:  0.4996089153747799\n",
      "\n",
      " Model:  nli_distilroberta_base\n",
      "median position: 2.0\n",
      "hit@1: 0.4010629094055123  - hit@5: 0.6256334198492152  - hit@10: 0.7152391546162402\n",
      "MRR in all data:  0.5075846869188708\n",
      "\n",
      " Model:  all_mpnet_base\n",
      "median position: 2.0\n",
      "hit@1: 0.4664441972562106  - hit@5: 0.6871832900753924  - hit@10: 0.7669014954888147\n",
      "MRR in all data:  0.5691792013584119\n",
      "\n",
      " Model:  multi_qa_MiniLM_L6_cos\n",
      "median position: 3.0\n",
      "hit@1: 0.36620936843406254  - hit@5: 0.5686565319490792  - hit@10: 0.6540600667408232\n",
      "MRR in all data:  0.46279232277470167\n",
      "\n",
      " Model:  xlm_distilroberta_paraphrase\n",
      "median position: 2.0\n",
      "hit@1: 0.41379310344827586  - hit@5: 0.6382400197750587  - hit@10: 0.7254974663206032\n",
      "MRR in all data:  0.5187406713726074\n",
      "\n",
      " Model:  paraphrase_MiniLM_L12\n",
      "median position: 1.0\n",
      "hit@1: 0.528859226300828  - hit@5: 0.7602274131751329  - hit@10: 0.8337659127425534\n",
      "MRR in all data:  0.6336502420932028\n",
      "\n",
      " Model:  paraphrase_TinyBERT_L6\n",
      "median position: 1.0\n",
      "hit@1: 0.5685329378321592  - hit@5: 0.8059572364355456  - hit@10: 0.8757879124953653\n",
      "MRR in all data:  0.6749065745212289\n",
      "\n",
      " Model:  nq_distilbert_base\n",
      "median position: 4.0\n",
      "hit@1: 0.3260412804350513  - hit@5: 0.5362748733160302  - hit@10: 0.6187121493016933\n",
      "MRR in all data:  0.4254914211642071\n",
      "\n",
      " Model:  all_MiniLM_L12\n",
      "median position: 2.0\n",
      "hit@1: 0.4486466444197256  - hit@5: 0.6670374490174268  - hit@10: 0.7477444073662094\n",
      "MRR in all data:  0.550377342709509\n",
      "\n",
      " Model:  paraphrase_MiniLM_L3\n",
      "median position: 1.0\n",
      "hit@1: 0.5063650970213818  - hit@5: 0.7336546780373254  - hit@10: 0.8183166481275491\n",
      "MRR in all data:  0.6115218888683002\n",
      "\n",
      " Model:  multi_qa_distilbert_cos\n",
      "median position: 3.0\n",
      "hit@1: 0.3796811271783463  - hit@5: 0.5874428377209245  - hit@10: 0.6738351254480287\n",
      "MRR in all data:  0.4795275412465367\n",
      "\n",
      " Model:  paraphrase_distilroberta\n",
      "median position: 1.0\n",
      "hit@1: 0.5296007910023482  - hit@5: 0.764306019033494  - hit@10: 0.8399456185885552\n",
      "MRR in all data:  0.6360536672638312\n",
      "\n",
      " Model:  all_roberta_large\n",
      "median position: 2.0\n",
      "hit@1: 0.48584847361265604  - hit@5: 0.7080706958348782  - hit@10: 0.7900135953528612\n",
      "MRR in all data:  0.5886092053186419\n",
      "\n",
      " Model:  all_MiniLM_L6\n",
      "median position: 2.0\n",
      "hit@1: 0.4354220739092819  - hit@5: 0.6567791373130639  - hit@10: 0.739216413298727\n",
      "MRR in all data:  0.5380214519774836\n",
      "\n",
      " Model:  stsb_mpnet_base\n",
      "median position: 2.0\n",
      "hit@1: 0.43344456803856135  - hit@5: 0.6517117785193425  - hit@10: 0.735879372141886\n",
      "MRR in all data:  0.5356094035194916\n",
      "\n",
      " Model:  stsb_distilroberta_base\n",
      "median position: 2.0\n",
      "hit@1: 0.410579656408355  - hit@5: 0.6219255963416142  - hit@10: 0.7043628723272772\n",
      "MRR in all data:  0.510936609435869\n",
      "\n",
      " Model:  stsb_roberta_base\n",
      "median position: 2.0\n",
      "hit@1: 0.4205907798788778  - hit@5: 0.6353973550858979  - hit@10: 0.7200593251761216\n",
      "MRR in all data:  0.5224353969410293\n",
      "\n",
      " Model:  paraphrase_MiniLM_L6\n",
      "median position: 1.0\n",
      "hit@1: 0.5137807440365839  - hit@5: 0.7497219132369299  - hit@10: 0.8258558892596712\n",
      "MRR in all data:  0.6211562284389277\n",
      "\n",
      " ****************************** Final Results ******************************\n",
      "Best model(s) for median position: ['paraphrase_MiniLM_L12', 'paraphrase_TinyBERT_L6', 'paraphrase_MiniLM_L3', 'paraphrase_distilroberta', 'paraphrase_MiniLM_L6']\n",
      "Best model for Hit@10: paraphrase_TinyBERT_L6 - 0.8757879124953653\n",
      "Best model for Hit@5: paraphrase_TinyBERT_L6 - 0.8059572364355456\n",
      "Best model for Hit@1: paraphrase_TinyBERT_L6 - 0.5685329378321592\n",
      "Best model for MRR (global rank): paraphrase_TinyBERT_L6 - 0.6749065745212289\n"
     ]
    }
   ],
   "source": [
    "directory = '.'\n",
    "def rank_metrics(directory):\n",
    "    best_median_rank_score = 1000000000\n",
    "    best_hit_10_score = 0 \n",
    "    best_hit_5_score = 0\n",
    "    best_hit_1_score = 0\n",
    "    best_mrr = 0\n",
    "    median_rank_models = []\n",
    "    median_rank = {}\n",
    "    hit_at_1 = {}\n",
    "    hit_at_5 = {}\n",
    "    hit_at_10 = {}\n",
    "    mrr_5 = {}\n",
    "    mrr_10 = {}\n",
    "    mrr_all = {}\n",
    "\n",
    "    for filename in os.listdir(directory):\n",
    "        if filename.endswith(\"ranking_results_8k.pkl\"): \n",
    "            df = pd.read_pickle(os.path.join(directory, filename))\n",
    "            for idx, data in df.iterrows():\n",
    "                median_rank[idx] = data['median hit pos all']\n",
    "                hit_at_1[idx] = data['rank 1']\n",
    "                hit_at_5[idx] = data['rank 5']\n",
    "                hit_at_10[idx] = data['rank 10']\n",
    "                mrr_5[idx] = data['mrr 5']\n",
    "                mrr_10[idx] = data['mrr 10']\n",
    "                mrr_all[idx] = data['mrr all']\n",
    "                print('\\n Model: ', idx)\n",
    "                print('median position:', data['median hit pos all'])\n",
    "                print('hit@1:', data['rank 1'], ' - hit@5:', data['rank 5'], ' - hit@10:', data['rank 10'])\n",
    "                print('MRR in all data: ', data['mrr all'])\n",
    "                if data['median hit pos all']<best_median_rank_score:    # find best median rank\n",
    "                    best_median_rank_score = data['median hit pos all']\n",
    "                    best_median_rank_model = idx\n",
    "                if data['rank 10']>best_hit_10_score:                    # find best hit@10\n",
    "                    best_hit_10_score = data['rank 10']\n",
    "                    best_hit_10_model = idx\n",
    "                if data['rank 5']>best_hit_5_score:                      # find best hit@5\n",
    "                    best_hit_5_score = data['rank 5']\n",
    "                    best_hit_5_model = idx\n",
    "                if data['rank 1']>best_hit_1_score:                      # find best hit@1\n",
    "                    best_hit_1_score = data['rank 1']\n",
    "                    best_hit_1_model = idx   \n",
    "                # MRR values from 0 (worst) to 1 (best), higher => better\n",
    "                if data['mrr all']>best_mrr:\n",
    "                    best_mrr = data['mrr all']\n",
    "                    best_mrr_model = idx\n",
    "                \n",
    "    for key in median_rank:\n",
    "        val = median_rank[key]\n",
    "        if val == best_median_rank_score:\n",
    "            median_rank_models.append(key)   # keep only best-ranking models\n",
    "\n",
    "    print('\\n', 30*'*', 'Final Results', 30*'*')\n",
    "    print('Best model(s) for median position:', [i for i in median_rank_models])\n",
    "    print('Best model for Hit@10:', best_hit_10_model, '-', best_hit_10_score)\n",
    "    print('Best model for Hit@5:', best_hit_5_model, '-', best_hit_5_score)\n",
    "    print('Best model for Hit@1:', best_hit_1_model, '-', best_hit_1_score)\n",
    "    print('Best model for MRR (global rank):', best_mrr_model, '-', best_mrr)\n",
    "    \n",
    "    return median_rank, hit_at_1, hit_at_5, hit_at_10, mrr_all\n",
    "median_rank, hit_at_1, hit_at_5, hit_at_10, mrr_all = rank_metrics(directory)"
   ]
  },
  {
   "cell_type": "code",
   "execution_count": 4,
   "metadata": {},
   "outputs": [
    {
     "name": "stdout",
     "output_type": "stream",
     "text": [
      "all MiniLM L12 & 0.4486 & 0.6670 & 0.7477 & 0.5307 & 0.5418 & 0.5504 & 2 & 55.14 \\\\\n",
      "all MiniLM L6 & 0.4354 & 0.6568 & 0.7392 & 0.5183 & 0.5294 & 0.5380 & 2 & 56.46 \\\\\n",
      "all distilroberta & 0.4699 & 0.6972 & 0.7754 & 0.5557 & 0.5662 & 0.5744 & 2 & 53.01 \\\\\n",
      "all mpnet base & 0.4664 & 0.6872 & 0.7669 & 0.5503 & 0.5610 & 0.5692 & 2 & 53.36 \\\\\n",
      "all roberta large & 0.4858 & 0.7081 & 0.7900 & 0.5700 & 0.5811 & 0.5886 & 2 & 51.42 \\\\\n",
      "multi qa MiniLM L6 cos & 0.3662 & 0.5687 & 0.6541 & 0.4411 & 0.4526 & 0.4628 & 3 & 63.38 \\\\\n",
      "multi qa distilbert cos & 0.3797 & 0.5874 & 0.6738 & 0.4583 & 0.4699 & 0.4795 & 3 & 62.03 \\\\\n",
      "multi qa mpnet base cos & 0.3990 & 0.6097 & 0.6990 & 0.4784 & 0.4904 & 0.4996 & 3 & 60.10 \\\\\n",
      "nli distilroberta base & 0.4011 & 0.6256 & 0.7152 & 0.4864 & 0.4984 & 0.5076 & 2 & 59.89 \\\\\n",
      "nq distilbert base & 0.3260 & 0.5363 & 0.6187 & 0.4037 & 0.4149 & 0.4255 & 4 & 67.40 \\\\\n",
      "paraphrase MiniLM L12 & 0.5289 & 0.7602 & 0.8338 & 0.6173 & 0.6273 & 0.6337 & 1 & 47.11 \\\\\n",
      "paraphrase MiniLM L3 & 0.5064 & 0.7337 & 0.8183 & 0.5933 & 0.6047 & 0.6115 & 1 & 49.36 \\\\\n",
      "paraphrase MiniLM L6 & 0.5138 & 0.7497 & 0.8259 & 0.6044 & 0.6147 & 0.6212 & 1 & 48.62 \\\\\n",
      "paraphrase TinyBERT L6 & 0.5685 & 0.8060 & 0.8758 & 0.6604 & 0.6700 & 0.6749 & 1 & 43.15 \\\\\n",
      "paraphrase albert base & 0.4776 & 0.7167 & 0.7957 & 0.5684 & 0.5789 & 0.5864 & 2 & 52.24 \\\\\n",
      "paraphrase distilroberta & 0.5296 & 0.7643 & 0.8399 & 0.6197 & 0.6298 & 0.6361 & 1 & 47.04 \\\\\n",
      "paraphrase mpnet & 0.4936 & 0.7318 & 0.8118 & 0.5846 & 0.5953 & 0.6022 & 2 & 50.64 \\\\\n",
      "stsb distilroberta base & 0.4106 & 0.6219 & 0.7044 & 0.4902 & 0.5013 & 0.5109 & 2 & 58.94 \\\\\n",
      "stsb mpnet base & 0.4334 & 0.6517 & 0.7359 & 0.5159 & 0.5272 & 0.5356 & 2 & 56.66 \\\\\n",
      "stsb roberta base & 0.4206 & 0.6354 & 0.7201 & 0.5017 & 0.5131 & 0.5224 & 2 & 57.94 \\\\\n",
      "stsb roberta large & 0.3678 & 0.5694 & 0.6575 & 0.4426 & 0.4545 & 0.4643 & 3 & 63.22 \\\\\n",
      "xlm distilroberta paraphrase & 0.4138 & 0.6382 & 0.7255 & 0.4979 & 0.5096 & 0.5187 & 2 & 58.62 \\\\\n"
     ]
    }
   ],
   "source": [
    "median_rank = {}\n",
    "hit_at_1 = {}\n",
    "hit_at_5 = {}\n",
    "hit_at_10 = {}\n",
    "mrr_5 = {}\n",
    "mrr_10 = {}\n",
    "mrr_all = {}\n",
    "fail_min = 10000\n",
    "min_fail = {}\n",
    "\n",
    "all_files =  os.listdir(directory)\n",
    "sorted_files =  sorted(all_files)\n",
    "for filename in sorted_files:\n",
    "        if filename.endswith(\"ranking_results_8k.pkl\"): \n",
    "            m = re.search('(.+?)_ranking_results_8k.pkl', filename)\n",
    "            if m:\n",
    "                model_name = m.group(1)\n",
    "            df = pd.read_pickle(os.path.join(directory, filename))\n",
    "            for idx, data in df.iterrows():\n",
    "                for filename in os.listdir(directory):\n",
    "                    if filename.endswith(\"_fail_file_name.txt\") and filename.startswith(model_name):\n",
    "                        with open(filename) as f:\n",
    "                            lines = f.readlines()\n",
    "                            fail_pct = (int(lines[0])/8091)*100\n",
    "                min_fail[idx] = fail_pct\n",
    "                name = idx.replace('_', ' ')\n",
    "                median_rank[idx] = data['median hit pos all']\n",
    "                hit_at_1[idx] = data['rank 1']\n",
    "                hit_at_5[idx] = data['rank 5']\n",
    "                hit_at_10[idx] = data['rank 10']\n",
    "                mrr_5[idx] = data['mrr 5']\n",
    "                mrr_10[idx] = data['mrr 10']\n",
    "                mrr_all[idx] = data['mrr all']\n",
    "            print(\"{} & {:.4f} & {:.4f} & {:.4f} & {:.4f} & {:.4f} & {:.4f} & {} & {:.2f} \\\\\\\\\".format(name, hit_at_1[idx], hit_at_5[idx], hit_at_10[idx], mrr_5[idx], mrr_10[idx],mrr_all[idx], int(median_rank[idx]), fail_pct))\n"
   ]
  },
  {
   "cell_type": "code",
   "execution_count": 5,
   "metadata": {},
   "outputs": [
    {
     "data": {
      "text/plain": [
       "{'nq_distilbert_base': 67.39587195649487,\n",
       " 'multi_qa_MiniLM_L6_cos': 63.37906315659375,\n",
       " 'stsb_roberta_large': 63.2183908045977,\n",
       " 'multi_qa_distilbert_cos': 62.031887282165364,\n",
       " 'multi_qa_mpnet_base_cos': 60.10381905821283,\n",
       " 'nli_distilroberta_base': 59.893709059448774,\n",
       " 'stsb_distilroberta_base': 58.94203435916451,\n",
       " 'xlm_distilroberta_paraphrase': 58.620689655172406,\n",
       " 'stsb_roberta_base': 57.940922012112225,\n",
       " 'stsb_mpnet_base': 56.65554319614387,\n",
       " 'all_MiniLM_L6': 56.45779260907181,\n",
       " 'all_MiniLM_L12': 55.13533555802744,\n",
       " 'all_mpnet_base': 53.355580274378944,\n",
       " 'all_distilroberta': 53.00951674700284,\n",
       " 'paraphrase_albert_base': 52.24323322209863,\n",
       " 'all_roberta_large': 51.4151526387344,\n",
       " 'paraphrase_mpnet': 50.63650970213818,\n",
       " 'paraphrase_MiniLM_L3': 49.36349029786182,\n",
       " 'paraphrase_MiniLM_L6': 48.62192559634161,\n",
       " 'paraphrase_MiniLM_L12': 47.11407736991719,\n",
       " 'paraphrase_distilroberta': 47.03992089976517,\n",
       " 'paraphrase_TinyBERT_L6': 43.14670621678408}"
      ]
     },
     "execution_count": 5,
     "metadata": {},
     "output_type": "execute_result"
    }
   ],
   "source": [
    "min_fail = dict(sorted(min_fail.items(), key=lambda item: item[1], reverse=True))\n",
    "min_fail"
   ]
  },
  {
   "cell_type": "code",
   "execution_count": 6,
   "metadata": {},
   "outputs": [
    {
     "data": {
      "text/plain": [
       "{'paraphrase_MiniLM_L12': 1.0,\n",
       " 'paraphrase_MiniLM_L3': 1.0,\n",
       " 'paraphrase_MiniLM_L6': 1.0,\n",
       " 'paraphrase_TinyBERT_L6': 1.0,\n",
       " 'paraphrase_distilroberta': 1.0,\n",
       " 'all_MiniLM_L12': 2.0,\n",
       " 'all_MiniLM_L6': 2.0,\n",
       " 'all_distilroberta': 2.0,\n",
       " 'all_mpnet_base': 2.0,\n",
       " 'all_roberta_large': 2.0,\n",
       " 'nli_distilroberta_base': 2.0,\n",
       " 'paraphrase_albert_base': 2.0,\n",
       " 'paraphrase_mpnet': 2.0,\n",
       " 'stsb_distilroberta_base': 2.0,\n",
       " 'stsb_mpnet_base': 2.0,\n",
       " 'stsb_roberta_base': 2.0,\n",
       " 'xlm_distilroberta_paraphrase': 2.0,\n",
       " 'multi_qa_MiniLM_L6_cos': 3.0,\n",
       " 'multi_qa_distilbert_cos': 3.0,\n",
       " 'multi_qa_mpnet_base_cos': 3.0,\n",
       " 'stsb_roberta_large': 3.0,\n",
       " 'nq_distilbert_base': 4.0}"
      ]
     },
     "execution_count": 6,
     "metadata": {},
     "output_type": "execute_result"
    }
   ],
   "source": [
    "median_rank = dict(sorted(median_rank.items(), key=lambda item: item[1], reverse=False))\n",
    "median_rank"
   ]
  },
  {
   "cell_type": "code",
   "execution_count": 7,
   "metadata": {},
   "outputs": [
    {
     "data": {
      "text/plain": [
       "{'paraphrase_TinyBERT_L6': 0.5685329378321592,\n",
       " 'paraphrase_distilroberta': 0.5296007910023482,\n",
       " 'paraphrase_MiniLM_L12': 0.528859226300828,\n",
       " 'paraphrase_MiniLM_L6': 0.5137807440365839,\n",
       " 'paraphrase_MiniLM_L3': 0.5063650970213818,\n",
       " 'paraphrase_mpnet': 0.49363490297861823,\n",
       " 'all_roberta_large': 0.48584847361265604,\n",
       " 'paraphrase_albert_base': 0.4775676677790137,\n",
       " 'all_distilroberta': 0.46990483252997156,\n",
       " 'all_mpnet_base': 0.4664441972562106,\n",
       " 'all_MiniLM_L12': 0.4486466444197256,\n",
       " 'all_MiniLM_L6': 0.4354220739092819,\n",
       " 'stsb_mpnet_base': 0.43344456803856135,\n",
       " 'stsb_roberta_base': 0.4205907798788778,\n",
       " 'xlm_distilroberta_paraphrase': 0.41379310344827586,\n",
       " 'stsb_distilroberta_base': 0.410579656408355,\n",
       " 'nli_distilroberta_base': 0.4010629094055123,\n",
       " 'multi_qa_mpnet_base_cos': 0.3989618094178717,\n",
       " 'multi_qa_distilbert_cos': 0.3796811271783463,\n",
       " 'stsb_roberta_large': 0.367816091954023,\n",
       " 'multi_qa_MiniLM_L6_cos': 0.36620936843406254,\n",
       " 'nq_distilbert_base': 0.3260412804350513}"
      ]
     },
     "execution_count": 7,
     "metadata": {},
     "output_type": "execute_result"
    }
   ],
   "source": [
    "hit_at_1 = dict(sorted(hit_at_1.items(), key=lambda item: item[1], reverse=True))\n",
    "hit_at_1"
   ]
  },
  {
   "cell_type": "code",
   "execution_count": 8,
   "metadata": {},
   "outputs": [
    {
     "data": {
      "text/plain": [
       "{'paraphrase_TinyBERT_L6': 0.8059572364355456,\n",
       " 'paraphrase_distilroberta': 0.764306019033494,\n",
       " 'paraphrase_MiniLM_L12': 0.7602274131751329,\n",
       " 'paraphrase_MiniLM_L6': 0.7497219132369299,\n",
       " 'paraphrase_MiniLM_L3': 0.7336546780373254,\n",
       " 'paraphrase_mpnet': 0.7318007662835249,\n",
       " 'paraphrase_albert_base': 0.7167222840192807,\n",
       " 'all_roberta_large': 0.7080706958348782,\n",
       " 'all_distilroberta': 0.6971944135459152,\n",
       " 'all_mpnet_base': 0.6871832900753924,\n",
       " 'all_MiniLM_L12': 0.6670374490174268,\n",
       " 'all_MiniLM_L6': 0.6567791373130639,\n",
       " 'stsb_mpnet_base': 0.6517117785193425,\n",
       " 'xlm_distilroberta_paraphrase': 0.6382400197750587,\n",
       " 'stsb_roberta_base': 0.6353973550858979,\n",
       " 'nli_distilroberta_base': 0.6256334198492152,\n",
       " 'stsb_distilroberta_base': 0.6219255963416142,\n",
       " 'multi_qa_mpnet_base_cos': 0.6096897787665307,\n",
       " 'multi_qa_distilbert_cos': 0.5874428377209245,\n",
       " 'stsb_roberta_large': 0.5693980966505995,\n",
       " 'multi_qa_MiniLM_L6_cos': 0.5686565319490792,\n",
       " 'nq_distilbert_base': 0.5362748733160302}"
      ]
     },
     "execution_count": 8,
     "metadata": {},
     "output_type": "execute_result"
    }
   ],
   "source": [
    "hit_at_5 = dict(sorted(hit_at_5.items(), key=lambda item: item[1], reverse=True))\n",
    "hit_at_5"
   ]
  },
  {
   "cell_type": "code",
   "execution_count": 9,
   "metadata": {},
   "outputs": [
    {
     "data": {
      "text/plain": [
       "{'paraphrase_TinyBERT_L6': 0.8757879124953653,\n",
       " 'paraphrase_distilroberta': 0.8399456185885552,\n",
       " 'paraphrase_MiniLM_L12': 0.8337659127425534,\n",
       " 'paraphrase_MiniLM_L6': 0.8258558892596712,\n",
       " 'paraphrase_MiniLM_L3': 0.8183166481275491,\n",
       " 'paraphrase_mpnet': 0.8117661599307873,\n",
       " 'paraphrase_albert_base': 0.7956989247311828,\n",
       " 'all_roberta_large': 0.7900135953528612,\n",
       " 'all_distilroberta': 0.7754294895562971,\n",
       " 'all_mpnet_base': 0.7669014954888147,\n",
       " 'all_MiniLM_L12': 0.7477444073662094,\n",
       " 'all_MiniLM_L6': 0.739216413298727,\n",
       " 'stsb_mpnet_base': 0.735879372141886,\n",
       " 'xlm_distilroberta_paraphrase': 0.7254974663206032,\n",
       " 'stsb_roberta_base': 0.7200593251761216,\n",
       " 'nli_distilroberta_base': 0.7152391546162402,\n",
       " 'stsb_distilroberta_base': 0.7043628723272772,\n",
       " 'multi_qa_mpnet_base_cos': 0.6990483252997157,\n",
       " 'multi_qa_distilbert_cos': 0.6738351254480287,\n",
       " 'stsb_roberta_large': 0.6575207020145841,\n",
       " 'multi_qa_MiniLM_L6_cos': 0.6540600667408232,\n",
       " 'nq_distilbert_base': 0.6187121493016933}"
      ]
     },
     "execution_count": 9,
     "metadata": {},
     "output_type": "execute_result"
    }
   ],
   "source": [
    "hit_at_10 = dict(sorted(hit_at_10.items(), key=lambda item: item[1], reverse=True))\n",
    "hit_at_10"
   ]
  },
  {
   "cell_type": "code",
   "execution_count": 10,
   "metadata": {},
   "outputs": [
    {
     "data": {
      "text/plain": [
       "{'paraphrase_TinyBERT_L6': 0.6604437028797389,\n",
       " 'paraphrase_distilroberta': 0.619684423021461,\n",
       " 'paraphrase_MiniLM_L12': 0.6172887570551617,\n",
       " 'paraphrase_MiniLM_L6': 0.6043834713467612,\n",
       " 'paraphrase_MiniLM_L3': 0.5932970790590336,\n",
       " 'paraphrase_mpnet': 0.5845692745025322,\n",
       " 'all_roberta_large': 0.569989288509865,\n",
       " 'paraphrase_albert_base': 0.5683805050879561,\n",
       " 'all_distilroberta': 0.5556606105549362,\n",
       " 'all_mpnet_base': 0.550294565978659,\n",
       " 'all_MiniLM_L12': 0.5307151979565762,\n",
       " 'all_MiniLM_L6': 0.5183145882256014,\n",
       " 'stsb_mpnet_base': 0.5159354014748897,\n",
       " 'stsb_roberta_base': 0.5016520413628318,\n",
       " 'xlm_distilroberta_paraphrase': 0.49788654060066806,\n",
       " 'stsb_distilroberta_base': 0.49024842417501024,\n",
       " 'nli_distilroberta_base': 0.48637786841346436,\n",
       " 'multi_qa_mpnet_base_cos': 0.47836484983314886,\n",
       " 'multi_qa_distilbert_cos': 0.45833230338235986,\n",
       " 'stsb_roberta_large': 0.4426028921023362,\n",
       " 'multi_qa_MiniLM_L6_cos': 0.4411197626992967,\n",
       " 'nq_distilbert_base': 0.4037222428212422}"
      ]
     },
     "execution_count": 10,
     "metadata": {},
     "output_type": "execute_result"
    }
   ],
   "source": [
    "mrr_5 = dict(sorted(mrr_5.items(), key=lambda item: item[1], reverse=True))\n",
    "mrr_5"
   ]
  },
  {
   "cell_type": "code",
   "execution_count": 11,
   "metadata": {},
   "outputs": [
    {
     "data": {
      "text/plain": [
       "{'paraphrase_TinyBERT_L6': 0.6699910541401057,\n",
       " 'paraphrase_distilroberta': 0.6298310095677526,\n",
       " 'paraphrase_MiniLM_L12': 0.6272663335510935,\n",
       " 'paraphrase_MiniLM_L6': 0.6146883270261081,\n",
       " 'paraphrase_MiniLM_L3': 0.6047262488400775,\n",
       " 'paraphrase_mpnet': 0.595281451269586,\n",
       " 'all_roberta_large': 0.5810711195861354,\n",
       " 'paraphrase_albert_base': 0.5789457912279571,\n",
       " 'all_distilroberta': 0.5661583122929057,\n",
       " 'all_mpnet_base': 0.5609853590016746,\n",
       " 'all_MiniLM_L12': 0.5417722611641774,\n",
       " 'all_MiniLM_L6': 0.529368855851987,\n",
       " 'stsb_mpnet_base': 0.5271731965558442,\n",
       " 'stsb_roberta_base': 0.5130925406045921,\n",
       " 'xlm_distilroberta_paraphrase': 0.5096282759797792,\n",
       " 'stsb_distilroberta_base': 0.5013498733650769,\n",
       " 'nli_distilroberta_base': 0.49835153894293804,\n",
       " 'multi_qa_mpnet_base_cos': 0.49036863416730103,\n",
       " 'multi_qa_distilbert_cos': 0.4698863915030043,\n",
       " 'stsb_roberta_large': 0.4544504181600962,\n",
       " 'multi_qa_MiniLM_L6_cos': 0.4525911114250024,\n",
       " 'nq_distilbert_base': 0.41486611618239433}"
      ]
     },
     "execution_count": 11,
     "metadata": {},
     "output_type": "execute_result"
    }
   ],
   "source": [
    "mrr_10 = dict(sorted(mrr_10.items(), key=lambda item: item[1], reverse=True))\n",
    "mrr_10"
   ]
  },
  {
   "cell_type": "code",
   "execution_count": 12,
   "metadata": {},
   "outputs": [
    {
     "data": {
      "text/plain": [
       "{'paraphrase_TinyBERT_L6': 0.6749065745212289,\n",
       " 'paraphrase_distilroberta': 0.6360536672638312,\n",
       " 'paraphrase_MiniLM_L12': 0.6336502420932028,\n",
       " 'paraphrase_MiniLM_L6': 0.6211562284389277,\n",
       " 'paraphrase_MiniLM_L3': 0.6115218888683002,\n",
       " 'paraphrase_mpnet': 0.602188949781251,\n",
       " 'all_roberta_large': 0.5886092053186419,\n",
       " 'paraphrase_albert_base': 0.586448437441523,\n",
       " 'all_distilroberta': 0.5743539984492478,\n",
       " 'all_mpnet_base': 0.5691792013584119,\n",
       " 'all_MiniLM_L12': 0.550377342709509,\n",
       " 'all_MiniLM_L6': 0.5380214519774836,\n",
       " 'stsb_mpnet_base': 0.5356094035194916,\n",
       " 'stsb_roberta_base': 0.5224353969410293,\n",
       " 'xlm_distilroberta_paraphrase': 0.5187406713726074,\n",
       " 'stsb_distilroberta_base': 0.510936609435869,\n",
       " 'nli_distilroberta_base': 0.5075846869188708,\n",
       " 'multi_qa_mpnet_base_cos': 0.4996089153747799,\n",
       " 'multi_qa_distilbert_cos': 0.4795275412465367,\n",
       " 'stsb_roberta_large': 0.4642690105047136,\n",
       " 'multi_qa_MiniLM_L6_cos': 0.46279232277470167,\n",
       " 'nq_distilbert_base': 0.4254914211642071}"
      ]
     },
     "execution_count": 12,
     "metadata": {},
     "output_type": "execute_result"
    }
   ],
   "source": [
    "mrr_all = dict(sorted(mrr_all.items(), key=lambda item: item[1], reverse=True))\n",
    "mrr_all"
   ]
  },
  {
   "cell_type": "code",
   "execution_count": null,
   "metadata": {},
   "outputs": [],
   "source": []
  }
 ],
 "metadata": {
  "kernelspec": {
   "display_name": "Python 3 (ipykernel)",
   "language": "python",
   "name": "python3"
  },
  "language_info": {
   "codemirror_mode": {
    "name": "ipython",
    "version": 3
   },
   "file_extension": ".py",
   "mimetype": "text/x-python",
   "name": "python",
   "nbconvert_exporter": "python",
   "pygments_lexer": "ipython3",
   "version": "3.7.3"
  }
 },
 "nbformat": 4,
 "nbformat_minor": 2
}
